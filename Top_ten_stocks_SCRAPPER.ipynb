{
  "nbformat": 4,
  "nbformat_minor": 0,
  "metadata": {
    "colab": {
      "name": "Top ten stocks SCRAPPER.ipynb",
      "provenance": [],
      "collapsed_sections": []
    },
    "kernelspec": {
      "name": "python3",
      "display_name": "Python 3"
    },
    "language_info": {
      "name": "python"
    }
  },
  "cells": [
    {
      "cell_type": "markdown",
      "metadata": {
        "id": "odio3LuVNGob"
      },
      "source": [
        "# SCRAPPER TO SCRAP TOP TEN STOCKS FROM WEBSITE:\n",
        "https://www.pivottrading.co.in/scanner/openHighLowScanner.php\n",
        "\n"
      ]
    },
    {
      "cell_type": "code",
      "metadata": {
        "colab": {
          "base_uri": "https://localhost:8080/"
        },
        "id": "yMBGjclp7lr4",
        "outputId": "1ab35d80-490c-4be7-a3e8-0274343264ee"
      },
      "source": [
        "pip install html-table-parser-python3\n"
      ],
      "execution_count": 1,
      "outputs": [
        {
          "output_type": "stream",
          "text": [
            "Collecting html-table-parser-python3\n",
            "  Downloading https://files.pythonhosted.org/packages/91/c2/2cf839cec7227e5f1f03fed871c449ad38a47fe73975c3ca57edb9b89207/html_table_parser_python3-0.1.5-py3-none-any.whl\n",
            "Installing collected packages: html-table-parser-python3\n",
            "Successfully installed html-table-parser-python3-0.1.5\n"
          ],
          "name": "stdout"
        }
      ]
    },
    {
      "cell_type": "code",
      "metadata": {
        "id": "pT8eByqE8ROL"
      },
      "source": [
        "# Library for opening url and creating \n",
        "# requests\n",
        "import urllib.request\n",
        "\n",
        "# pretty-print python data structures\n",
        "from pprint import pprint\n",
        "\n",
        "# for parsing all the tables present \n",
        "# on the website\n",
        "from html_table_parser import HTMLTableParser\n",
        "\n",
        "# for converting the parsed data in a\n",
        "# pandas dataframe\n",
        "import pandas as pd"
      ],
      "execution_count": 2,
      "outputs": []
    },
    {
      "cell_type": "code",
      "metadata": {
        "id": "X9yKSDT39hic"
      },
      "source": [
        "# Opens a website and read its\n",
        "# binary contents (HTTP Response Body)\n",
        "def url_get_contents(url):\n",
        "\n",
        "    # Opens a website and read its\n",
        "    # binary contents (HTTP Response Body)\n",
        "\n",
        "    #making request to the website\n",
        "    req = urllib.request.Request(url=url)\n",
        "    f = urllib.request.urlopen(req)\n",
        "\n",
        "    #reading contents of the website\n",
        "    return f.read()"
      ],
      "execution_count": 3,
      "outputs": []
    },
    {
      "cell_type": "code",
      "metadata": {
        "id": "BbZOZibr9j74"
      },
      "source": [
        "# defining the html contents of a URL.\n",
        "xhtml = url_get_contents('https://www.pivottrading.co.in/scanner/openHighLowScanner.php').decode('utf-8')\n",
        "\n",
        "# Defining the HTMLTableParser object\n",
        "p = HTMLTableParser()\n",
        "\n",
        "# feeding the html contents in the\n",
        "# HTMLTableParser object\n",
        "p.feed(xhtml)\n",
        "\n",
        "# Now finally obtaining the data of\n",
        "# the table required\n",
        "ttable= p.tables[-3][2:]\n"
      ],
      "execution_count": 4,
      "outputs": []
    },
    {
      "cell_type": "code",
      "metadata": {
        "id": "YIfFl9M1OgU4"
      },
      "source": [
        "def oholt(table):\n",
        "  columnnames = table[0][1:]\n",
        "  columnnames.pop(0)\n",
        "  rows = table[1:]\n",
        "  nrows = []\n",
        "  for i in rows:\n",
        "    temp = []\n",
        "    if len(i) > 1:\n",
        "      for j in i:\n",
        "        if j != '':\n",
        "          temp.append(j)\n",
        "      nrows.append(temp)\n",
        "  final_table = []\n",
        "  # final_table.append(columnnames)\n",
        "  for i in nrows:\n",
        "    final_table.append(i)\n",
        "  df = pd.DataFrame(final_table, columns = columnnames)\n",
        "  return df"
      ],
      "execution_count": 5,
      "outputs": []
    },
    {
      "cell_type": "code",
      "metadata": {
        "id": "TSehdnmOzJYq",
        "colab": {
          "base_uri": "https://localhost:8080/",
          "height": 390
        },
        "outputId": "513cc84a-23de-423c-9d00-662fc7bc6f42"
      },
      "source": [
        "oholt(ttable) #data of - date : 09-04-2021 time: 20:45"
      ],
      "execution_count": 6,
      "outputs": [
        {
          "output_type": "execute_result",
          "data": {
            "text/html": [
              "<div>\n",
              "<style scoped>\n",
              "    .dataframe tbody tr th:only-of-type {\n",
              "        vertical-align: middle;\n",
              "    }\n",
              "\n",
              "    .dataframe tbody tr th {\n",
              "        vertical-align: top;\n",
              "    }\n",
              "\n",
              "    .dataframe thead th {\n",
              "        text-align: right;\n",
              "    }\n",
              "</style>\n",
              "<table border=\"1\" class=\"dataframe\">\n",
              "  <thead>\n",
              "    <tr style=\"text-align: right;\">\n",
              "      <th></th>\n",
              "      <th>SrNo</th>\n",
              "      <th>Scrip</th>\n",
              "      <th>OHL</th>\n",
              "      <th>Entry Price 1</th>\n",
              "      <th>Entry Price 2</th>\n",
              "      <th>Entry Price 3</th>\n",
              "      <th>Stoploss</th>\n",
              "      <th>Target</th>\n",
              "      <th>Result</th>\n",
              "    </tr>\n",
              "  </thead>\n",
              "  <tbody>\n",
              "    <tr>\n",
              "      <th>0</th>\n",
              "      <td>1</td>\n",
              "      <td>NTPC</td>\n",
              "      <td>Open = High</td>\n",
              "      <td>104.9 Sell @ Zerodha</td>\n",
              "      <td>105.3 Sell @ Zerodha</td>\n",
              "      <td>105.7 Sell @ Zerodha</td>\n",
              "      <td>106.15 SL order @ Zerodha</td>\n",
              "      <td>103.65 Target @ Zerodha</td>\n",
              "      <td>Target achieved.</td>\n",
              "    </tr>\n",
              "    <tr>\n",
              "      <th>1</th>\n",
              "      <td>2</td>\n",
              "      <td>HINDUNILVR</td>\n",
              "      <td>Open = Low</td>\n",
              "      <td>2460.45 Buy @ Zerodha</td>\n",
              "      <td>2446.5 Buy @ Zerodha</td>\n",
              "      <td>2431.55 Buy @ Zerodha</td>\n",
              "      <td>2416.45 SL order @ Zerodha</td>\n",
              "      <td>2505.5 Target @ Zerodha</td>\n",
              "      <td>None</td>\n",
              "    </tr>\n",
              "    <tr>\n",
              "      <th>2</th>\n",
              "      <td>3</td>\n",
              "      <td>INFY</td>\n",
              "      <td>Open = High</td>\n",
              "      <td>1446.35 Sell @ Zerodha</td>\n",
              "      <td>1449.65 Sell @ Zerodha</td>\n",
              "      <td>1453.2 Sell @ Zerodha</td>\n",
              "      <td>1456.75 SL order @ Zerodha</td>\n",
              "      <td>1435.65 Target @ Zerodha</td>\n",
              "      <td>Target achieved.</td>\n",
              "    </tr>\n",
              "    <tr>\n",
              "      <th>3</th>\n",
              "      <td>4</td>\n",
              "      <td>BPCL</td>\n",
              "      <td>Open = High</td>\n",
              "      <td>428.2 Sell @ Zerodha</td>\n",
              "      <td>428.9 Sell @ Zerodha</td>\n",
              "      <td>429.6 Sell @ Zerodha</td>\n",
              "      <td>430.35 SL order @ Zerodha</td>\n",
              "      <td>426.05 Target @ Zerodha</td>\n",
              "      <td>Target achieved. Stoploss hit.</td>\n",
              "    </tr>\n",
              "    <tr>\n",
              "      <th>4</th>\n",
              "      <td>5</td>\n",
              "      <td>SBIN</td>\n",
              "      <td>Open = High</td>\n",
              "      <td>352.4 Sell @ Zerodha</td>\n",
              "      <td>353.15 Sell @ Zerodha</td>\n",
              "      <td>353.95 Sell @ Zerodha</td>\n",
              "      <td>354.8 SL order @ Zerodha</td>\n",
              "      <td>349.95 Target @ Zerodha</td>\n",
              "      <td>Stoploss hit.</td>\n",
              "    </tr>\n",
              "    <tr>\n",
              "      <th>5</th>\n",
              "      <td>6</td>\n",
              "      <td>TECHM</td>\n",
              "      <td>Open = High</td>\n",
              "      <td>1021.25 Sell @ Zerodha</td>\n",
              "      <td>1024.2 Sell @ Zerodha</td>\n",
              "      <td>1027.35 Sell @ Zerodha</td>\n",
              "      <td>1030.5 SL order @ Zerodha</td>\n",
              "      <td>1011.8 Target @ Zerodha</td>\n",
              "      <td>Stoploss hit.</td>\n",
              "    </tr>\n",
              "    <tr>\n",
              "      <th>6</th>\n",
              "      <td>7</td>\n",
              "      <td>LT</td>\n",
              "      <td>Open = High</td>\n",
              "      <td>1403.55 Sell @ Zerodha</td>\n",
              "      <td>1407.5 Sell @ Zerodha</td>\n",
              "      <td>1411.8 Sell @ Zerodha</td>\n",
              "      <td>1416.15 SL order @ Zerodha</td>\n",
              "      <td>1390.6 Target @ Zerodha</td>\n",
              "      <td>Stoploss hit.</td>\n",
              "    </tr>\n",
              "    <tr>\n",
              "      <th>7</th>\n",
              "      <td>8</td>\n",
              "      <td>ICICIBANK</td>\n",
              "      <td>Open = High</td>\n",
              "      <td>568.4 Sell @ Zerodha</td>\n",
              "      <td>570.5 Sell @ Zerodha</td>\n",
              "      <td>572.8 Sell @ Zerodha</td>\n",
              "      <td>575.1 SL order @ Zerodha</td>\n",
              "      <td>561.55 Target @ Zerodha</td>\n",
              "      <td>Stoploss hit.</td>\n",
              "    </tr>\n",
              "    <tr>\n",
              "      <th>8</th>\n",
              "      <td>9</td>\n",
              "      <td>UPL</td>\n",
              "      <td>Open = High</td>\n",
              "      <td>649.3 Sell @ Zerodha</td>\n",
              "      <td>651.85 Sell @ Zerodha</td>\n",
              "      <td>654.6 Sell @ Zerodha</td>\n",
              "      <td>657.35 SL order @ Zerodha</td>\n",
              "      <td>641.05 Target @ Zerodha</td>\n",
              "      <td>Target achieved.</td>\n",
              "    </tr>\n",
              "    <tr>\n",
              "      <th>9</th>\n",
              "      <td>10</td>\n",
              "      <td>POWERGRID</td>\n",
              "      <td>Open = Low</td>\n",
              "      <td>210.65 Buy @ Zerodha</td>\n",
              "      <td>210.15 Buy @ Zerodha</td>\n",
              "      <td>209.65 Buy @ Zerodha</td>\n",
              "      <td>209.1 SL order @ Zerodha</td>\n",
              "      <td>212.2 Target @ Zerodha</td>\n",
              "      <td>Stoploss hit.</td>\n",
              "    </tr>\n",
              "    <tr>\n",
              "      <th>10</th>\n",
              "      <td>11</td>\n",
              "      <td>ONGC</td>\n",
              "      <td>Open = Low</td>\n",
              "      <td>103.85 Buy @ Zerodha</td>\n",
              "      <td>103.5 Buy @ Zerodha</td>\n",
              "      <td>103.15 Buy @ Zerodha</td>\n",
              "      <td>102.8 SL order @ Zerodha</td>\n",
              "      <td>104.9 Target @ Zerodha</td>\n",
              "      <td>None</td>\n",
              "    </tr>\n",
              "  </tbody>\n",
              "</table>\n",
              "</div>"
            ],
            "text/plain": [
              "   SrNo       Scrip  ...                    Target                          Result\n",
              "0     1        NTPC  ...   103.65 Target @ Zerodha                Target achieved.\n",
              "1     2  HINDUNILVR  ...   2505.5 Target @ Zerodha                            None\n",
              "2     3        INFY  ...  1435.65 Target @ Zerodha                Target achieved.\n",
              "3     4        BPCL  ...   426.05 Target @ Zerodha  Target achieved. Stoploss hit.\n",
              "4     5        SBIN  ...   349.95 Target @ Zerodha                   Stoploss hit.\n",
              "5     6       TECHM  ...   1011.8 Target @ Zerodha                   Stoploss hit.\n",
              "6     7          LT  ...   1390.6 Target @ Zerodha                   Stoploss hit.\n",
              "7     8   ICICIBANK  ...   561.55 Target @ Zerodha                   Stoploss hit.\n",
              "8     9         UPL  ...   641.05 Target @ Zerodha                Target achieved.\n",
              "9    10   POWERGRID  ...    212.2 Target @ Zerodha                   Stoploss hit.\n",
              "10   11        ONGC  ...    104.9 Target @ Zerodha                            None\n",
              "\n",
              "[11 rows x 9 columns]"
            ]
          },
          "metadata": {
            "tags": []
          },
          "execution_count": 6
        }
      ]
    },
    {
      "cell_type": "code",
      "metadata": {
        "id": "W9h-jXVDZ0so"
      },
      "source": [
        ""
      ],
      "execution_count": null,
      "outputs": []
    }
  ]
}